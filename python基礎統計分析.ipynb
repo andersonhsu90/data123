{
  "nbformat": 4,
  "nbformat_minor": 0,
  "metadata": {
    "colab": {
      "name": "python基礎統計分析",
      "provenance": []
    },
    "kernelspec": {
      "name": "python3",
      "display_name": "Python 3"
    }
  },
  "cells": [
    {
      "cell_type": "code",
      "metadata": {
        "id": "3gLHrHWMnEnB",
        "colab_type": "code",
        "colab": {
          "base_uri": "https://localhost:8080/",
          "height": 222
        },
        "outputId": "d2873fdb-c2c5-419e-aa46-4d305af6fd30"
      },
      "source": [
        "!wget https://raw.githubusercontent.com/PacktPublishing/Learning-Pandas-Second-Edition/master/data/sp500.csv"
      ],
      "execution_count": 1,
      "outputs": [
        {
          "output_type": "stream",
          "text": [
            "--2019-12-10 02:31:21--  https://raw.githubusercontent.com/PacktPublishing/Learning-Pandas-Second-Edition/master/data/sp500.csv\n",
            "Resolving raw.githubusercontent.com (raw.githubusercontent.com)... 151.101.0.133, 151.101.64.133, 151.101.128.133, ...\n",
            "Connecting to raw.githubusercontent.com (raw.githubusercontent.com)|151.101.0.133|:443... connected.\n",
            "HTTP request sent, awaiting response... 200 OK\n",
            "Length: 83629 (82K) [text/plain]\n",
            "Saving to: ‘sp500.csv’\n",
            "\n",
            "\rsp500.csv             0%[                    ]       0  --.-KB/s               \rsp500.csv           100%[===================>]  81.67K  --.-KB/s    in 0.01s   \n",
            "\n",
            "2019-12-10 02:31:21 (5.43 MB/s) - ‘sp500.csv’ saved [83629/83629]\n",
            "\n"
          ],
          "name": "stdout"
        }
      ]
    },
    {
      "cell_type": "code",
      "metadata": {
        "id": "6wAKkfO6paYA",
        "colab_type": "code",
        "colab": {
          "base_uri": "https://localhost:8080/",
          "height": 222
        },
        "outputId": "d81da6f8-3c9f-4b22-eede-cfe97182b65e"
      },
      "source": [
        "!wget https://raw.githubusercontent.com/PacktPublishing/Learning-Pandas-Second-Edition/master/data/omh.csv"
      ],
      "execution_count": 2,
      "outputs": [
        {
          "output_type": "stream",
          "text": [
            "--2019-12-10 02:31:35--  https://raw.githubusercontent.com/PacktPublishing/Learning-Pandas-Second-Edition/master/data/omh.csv\n",
            "Resolving raw.githubusercontent.com (raw.githubusercontent.com)... 151.101.0.133, 151.101.64.133, 151.101.128.133, ...\n",
            "Connecting to raw.githubusercontent.com (raw.githubusercontent.com)|151.101.0.133|:443... connected.\n",
            "HTTP request sent, awaiting response... 200 OK\n",
            "Length: 539 [text/plain]\n",
            "Saving to: ‘omh.csv’\n",
            "\n",
            "\romh.csv               0%[                    ]       0  --.-KB/s               \romh.csv             100%[===================>]     539  --.-KB/s    in 0s      \n",
            "\n",
            "2019-12-10 02:31:35 (121 MB/s) - ‘omh.csv’ saved [539/539]\n",
            "\n"
          ],
          "name": "stdout"
        }
      ]
    },
    {
      "cell_type": "code",
      "metadata": {
        "id": "cSUxLZxnpiaE",
        "colab_type": "code",
        "colab": {
          "base_uri": "https://localhost:8080/",
          "height": 34
        },
        "outputId": "f5d1b5e1-7eb1-4e58-8b8c-d084a8ac8091"
      },
      "source": [
        "!ls"
      ],
      "execution_count": 3,
      "outputs": [
        {
          "output_type": "stream",
          "text": [
            "omh.csv  sample_data  sp500.csv\n"
          ],
          "name": "stdout"
        }
      ]
    },
    {
      "cell_type": "code",
      "metadata": {
        "id": "Eb1f9ErFpobk",
        "colab_type": "code",
        "colab": {}
      },
      "source": [
        "%mkdir hahahaha"
      ],
      "execution_count": 0,
      "outputs": []
    },
    {
      "cell_type": "code",
      "metadata": {
        "id": "4BMUrxgqpu4X",
        "colab_type": "code",
        "colab": {
          "base_uri": "https://localhost:8080/",
          "height": 34
        },
        "outputId": "f6a9f483-2a61-46bd-91c0-d27c1c579187"
      },
      "source": [
        "!ls"
      ],
      "execution_count": 5,
      "outputs": [
        {
          "output_type": "stream",
          "text": [
            "hahahaha  omh.csv  sample_data\tsp500.csv\n"
          ],
          "name": "stdout"
        }
      ]
    },
    {
      "cell_type": "code",
      "metadata": {
        "id": "IGldNNVCqv_a",
        "colab_type": "code",
        "colab": {}
      },
      "source": [
        "# -*- coding: utf-8 -*-\n",
        "import numpy as np\n",
        "import pandas as pd\n",
        "\n",
        "# used for dates\n",
        "import datetime\n",
        "from datetime import datetime, date\n",
        "\n",
        "# Set formattign options\n",
        "pd.set_option('display.notebook_repr_html', False)\n",
        "pd.set_option('display.max_columns', 7)\n",
        "pd.set_option('display.max_rows', 10)\n",
        "pd.set_option('display.width', 60)\n",
        "\n",
        "# bring in matplotlib for graphics\n",
        "import matplotlib.pyplot as plt\n",
        "# %matplotlib inline\n",
        "\n",
        "# read in the data and print the first five rows\n",
        "# use the Symbol column as the index, and \n",
        "# only read in columns in positions 0, 2, 3, 7\n",
        "sp500 = pd.read_csv(\"sp500.csv\", \n",
        "                    index_col='Symbol', \n",
        "                    usecols=[0, 2, 3, 7])\n",
        "\n",
        "# one month of stock history data\n",
        "omh = pd.read_csv(\"omh.csv\")"
      ],
      "execution_count": 0,
      "outputs": []
    },
    {
      "cell_type": "code",
      "metadata": {
        "id": "cXahE0kxqyRg",
        "colab_type": "code",
        "colab": {
          "base_uri": "https://localhost:8080/",
          "height": 269
        },
        "outputId": "c9918a9b-de68-42ab-b150-b5896c75e623"
      },
      "source": [
        "sp500"
      ],
      "execution_count": 7,
      "outputs": [
        {
          "output_type": "execute_result",
          "data": {
            "text/plain": [
              "                        Sector   Price  Book Value\n",
              "Symbol                                            \n",
              "MMM                Industrials  141.14      26.668\n",
              "ABT                Health Care   39.60      15.573\n",
              "ABBV               Health Care   53.95       2.954\n",
              "ACN     Information Technology   79.79       8.326\n",
              "ACE                 Financials  102.91      86.897\n",
              "...                        ...     ...         ...\n",
              "YHOO    Information Technology   35.02      12.768\n",
              "YUM     Consumer Discretionary   74.77       5.147\n",
              "ZMH                Health Care  101.84      37.181\n",
              "ZION                Financials   28.43      30.191\n",
              "ZTS                Health Care   30.53       2.150\n",
              "\n",
              "[500 rows x 3 columns]"
            ]
          },
          "metadata": {
            "tags": []
          },
          "execution_count": 7
        }
      ]
    },
    {
      "cell_type": "code",
      "metadata": {
        "id": "k7gQxYLBrA5_",
        "colab_type": "code",
        "colab": {
          "base_uri": "https://localhost:8080/",
          "height": 252
        },
        "outputId": "6d5b2792-a422-4b1a-8879-d580c8d4fd84"
      },
      "source": [
        "omh"
      ],
      "execution_count": 8,
      "outputs": [
        {
          "output_type": "execute_result",
          "data": {
            "text/plain": [
              "          Date   MSFT    AAPL\n",
              "0   2014-12-01  48.62  115.07\n",
              "1   2014-12-02  48.46  114.63\n",
              "2   2014-12-03  48.08  115.93\n",
              "3   2014-12-04  48.84  115.49\n",
              "4   2014-12-05  48.42  115.00\n",
              "..         ...    ...     ...\n",
              "17  2014-12-24  48.14  112.01\n",
              "18  2014-12-26  47.88  113.99\n",
              "19  2014-12-29  47.45  113.91\n",
              "20  2014-12-30  47.02  112.52\n",
              "21  2014-12-31  46.45  110.38\n",
              "\n",
              "[22 rows x 3 columns]"
            ]
          },
          "metadata": {
            "tags": []
          },
          "execution_count": 8
        }
      ]
    },
    {
      "cell_type": "code",
      "metadata": {
        "id": "X22RD7lFrTee",
        "colab_type": "code",
        "colab": {
          "base_uri": "https://localhost:8080/",
          "height": 168
        },
        "outputId": "b2b9e6ee-8374-42e8-e71c-a19d236eeeb3"
      },
      "source": [
        "omh.describe()"
      ],
      "execution_count": 9,
      "outputs": [
        {
          "output_type": "execute_result",
          "data": {
            "text/plain": [
              "            MSFT        AAPL\n",
              "count  22.000000   22.000000\n",
              "mean   47.493182  112.411364\n",
              "std     0.933077    2.388772\n",
              "min    45.160000  106.750000\n",
              "25%    46.967500  111.660000\n",
              "50%    47.625000  112.530000\n",
              "75%    48.125000  114.087500\n",
              "max    48.840000  115.930000"
            ]
          },
          "metadata": {
            "tags": []
          },
          "execution_count": 9
        }
      ]
    },
    {
      "cell_type": "code",
      "metadata": {
        "id": "5AFGtFoGsRKw",
        "colab_type": "code",
        "colab": {
          "base_uri": "https://localhost:8080/",
          "height": 168
        },
        "outputId": "ef93a88a-c275-4884-b438-726d86d711b3"
      },
      "source": [
        "omh.MSFT.describe()"
      ],
      "execution_count": 10,
      "outputs": [
        {
          "output_type": "execute_result",
          "data": {
            "text/plain": [
              "count    22.000000\n",
              "mean     47.493182\n",
              "std       0.933077\n",
              "min      45.160000\n",
              "25%      46.967500\n",
              "50%      47.625000\n",
              "75%      48.125000\n",
              "max      48.840000\n",
              "Name: MSFT, dtype: float64"
            ]
          },
          "metadata": {
            "tags": []
          },
          "execution_count": 10
        }
      ]
    },
    {
      "cell_type": "code",
      "metadata": {
        "id": "aj5k7swJsagK",
        "colab_type": "code",
        "colab": {
          "base_uri": "https://localhost:8080/",
          "height": 34
        },
        "outputId": "c99ed107-d747-4b13-b82c-28890374c014"
      },
      "source": [
        "omh.MSFT.describe()['mean']"
      ],
      "execution_count": 11,
      "outputs": [
        {
          "output_type": "execute_result",
          "data": {
            "text/plain": [
              "47.49318181818182"
            ]
          },
          "metadata": {
            "tags": []
          },
          "execution_count": 11
        }
      ]
    },
    {
      "cell_type": "code",
      "metadata": {
        "id": "2P8rLbkOskCe",
        "colab_type": "code",
        "colab": {
          "base_uri": "https://localhost:8080/",
          "height": 67
        },
        "outputId": "79b432ab-8b71-4f19-ff2b-c2418eb8d578"
      },
      "source": [
        "omh.mean()"
      ],
      "execution_count": 12,
      "outputs": [
        {
          "output_type": "execute_result",
          "data": {
            "text/plain": [
              "MSFT     47.493182\n",
              "AAPL    112.411364\n",
              "dtype: float64"
            ]
          },
          "metadata": {
            "tags": []
          },
          "execution_count": 12
        }
      ]
    },
    {
      "cell_type": "code",
      "metadata": {
        "id": "C4EBKYDmsowu",
        "colab_type": "code",
        "colab": {
          "base_uri": "https://localhost:8080/",
          "height": 118
        },
        "outputId": "aebc1b16-b786-4063-96e3-114a41d6c7a3"
      },
      "source": [
        "omh.mean(axis=1)[:5]"
      ],
      "execution_count": 13,
      "outputs": [
        {
          "output_type": "execute_result",
          "data": {
            "text/plain": [
              "0    81.845\n",
              "1    81.545\n",
              "2    82.005\n",
              "3    82.165\n",
              "4    81.710\n",
              "dtype: float64"
            ]
          },
          "metadata": {
            "tags": []
          },
          "execution_count": 13
        }
      ]
    },
    {
      "cell_type": "code",
      "metadata": {
        "id": "oYOjroF2s6wC",
        "colab_type": "code",
        "colab": {
          "base_uri": "https://localhost:8080/",
          "height": 67
        },
        "outputId": "48b2516c-3862-4c96-fff8-f0456d5ccce5"
      },
      "source": [
        "omh.median()"
      ],
      "execution_count": 14,
      "outputs": [
        {
          "output_type": "execute_result",
          "data": {
            "text/plain": [
              "MSFT     47.625\n",
              "AAPL    112.530\n",
              "dtype: float64"
            ]
          },
          "metadata": {
            "tags": []
          },
          "execution_count": 14
        }
      ]
    },
    {
      "cell_type": "code",
      "metadata": {
        "id": "mvaLSgaBtExP",
        "colab_type": "code",
        "colab": {
          "base_uri": "https://localhost:8080/",
          "height": 50
        },
        "outputId": "456a9dad-0a0a-43d3-a34c-d5dad25eb149"
      },
      "source": [
        "s = pd.Series([1, 2, 3, 3, 5])\n",
        "s.mode()"
      ],
      "execution_count": 15,
      "outputs": [
        {
          "output_type": "execute_result",
          "data": {
            "text/plain": [
              "0    3\n",
              "dtype: int64"
            ]
          },
          "metadata": {
            "tags": []
          },
          "execution_count": 15
        }
      ]
    },
    {
      "cell_type": "code",
      "metadata": {
        "id": "PwdGhNTXtMtp",
        "colab_type": "code",
        "colab": {
          "base_uri": "https://localhost:8080/",
          "height": 67
        },
        "outputId": "21f354ac-45d0-40c6-8113-3ad80b1e3ea9"
      },
      "source": [
        "s = pd.Series([1, 2, 3, 3, 5, 1])\n",
        "s.mode()"
      ],
      "execution_count": 16,
      "outputs": [
        {
          "output_type": "execute_result",
          "data": {
            "text/plain": [
              "0    1\n",
              "1    3\n",
              "dtype: int64"
            ]
          },
          "metadata": {
            "tags": []
          },
          "execution_count": 16
        }
      ]
    },
    {
      "cell_type": "code",
      "metadata": {
        "id": "yAIhuu80tcMM",
        "colab_type": "code",
        "colab": {
          "base_uri": "https://localhost:8080/",
          "height": 67
        },
        "outputId": "6ce5dacd-0f02-42f7-8dc3-1194a6f605f4"
      },
      "source": [
        "omh.var()"
      ],
      "execution_count": 17,
      "outputs": [
        {
          "output_type": "execute_result",
          "data": {
            "text/plain": [
              "MSFT    0.870632\n",
              "AAPL    5.706231\n",
              "dtype: float64"
            ]
          },
          "metadata": {
            "tags": []
          },
          "execution_count": 17
        }
      ]
    },
    {
      "cell_type": "code",
      "metadata": {
        "id": "naiL4Z7xtd92",
        "colab_type": "code",
        "colab": {
          "base_uri": "https://localhost:8080/",
          "height": 67
        },
        "outputId": "39f3a753-9a9b-4948-fd9f-6e037664bc17"
      },
      "source": [
        "omh.std()"
      ],
      "execution_count": 18,
      "outputs": [
        {
          "output_type": "execute_result",
          "data": {
            "text/plain": [
              "MSFT    0.933077\n",
              "AAPL    2.388772\n",
              "dtype: float64"
            ]
          },
          "metadata": {
            "tags": []
          },
          "execution_count": 18
        }
      ]
    },
    {
      "cell_type": "code",
      "metadata": {
        "id": "Y3cK-zaPv4NJ",
        "colab_type": "code",
        "colab": {
          "base_uri": "https://localhost:8080/",
          "height": 34
        },
        "outputId": "57e44f6b-9eb2-43f3-8c40-e578b790071a"
      },
      "source": [
        "omh.MSFT.cov(omh.AAPL)"
      ],
      "execution_count": 19,
      "outputs": [
        {
          "output_type": "execute_result",
          "data": {
            "text/plain": [
              "1.9261240259740264"
            ]
          },
          "metadata": {
            "tags": []
          },
          "execution_count": 19
        }
      ]
    },
    {
      "cell_type": "markdown",
      "metadata": {
        "id": "vksEPS3tyBdW",
        "colab_type": "text"
      },
      "source": [
        "# 作業"
      ]
    },
    {
      "cell_type": "code",
      "metadata": {
        "id": "KwMnaByXvwqV",
        "colab_type": "code",
        "colab": {}
      },
      "source": [
        "data = {\"A\" : [60,59,61,62,58,60], \"B\" : [60,54,66,71,49,60]}\n",
        "class_AB= pd.DataFrame(data)"
      ],
      "execution_count": 0,
      "outputs": []
    },
    {
      "cell_type": "code",
      "metadata": {
        "id": "3fTbhjJNyRYE",
        "colab_type": "code",
        "colab": {
          "base_uri": "https://localhost:8080/",
          "height": 134
        },
        "outputId": "364c991c-2262-4e76-b59e-e13faebb869f"
      },
      "source": [
        "class_AB"
      ],
      "execution_count": 26,
      "outputs": [
        {
          "output_type": "execute_result",
          "data": {
            "text/plain": [
              "    A   B\n",
              "0  60  60\n",
              "1  59  54\n",
              "2  61  66\n",
              "3  62  71\n",
              "4  58  49\n",
              "5  60  60"
            ]
          },
          "metadata": {
            "tags": []
          },
          "execution_count": 26
        }
      ]
    },
    {
      "cell_type": "code",
      "metadata": {
        "id": "7ZOlxuw3w-pt",
        "colab_type": "code",
        "colab": {
          "base_uri": "https://localhost:8080/",
          "height": 168
        },
        "outputId": "5e83d5bb-262b-4adf-d734-c37a53a73795"
      },
      "source": [
        "class_AB.describe()"
      ],
      "execution_count": 25,
      "outputs": [
        {
          "output_type": "execute_result",
          "data": {
            "text/plain": [
              "               A          B\n",
              "count   6.000000   6.000000\n",
              "mean   60.000000  60.000000\n",
              "std     1.414214   7.924645\n",
              "min    58.000000  49.000000\n",
              "25%    59.250000  55.500000\n",
              "50%    60.000000  60.000000\n",
              "75%    60.750000  64.500000\n",
              "max    62.000000  71.000000"
            ]
          },
          "metadata": {
            "tags": []
          },
          "execution_count": 25
        }
      ]
    },
    {
      "cell_type": "code",
      "metadata": {
        "id": "KmpPTUMEyJp3",
        "colab_type": "code",
        "colab": {
          "base_uri": "https://localhost:8080/",
          "height": 168
        },
        "outputId": "e0ad2f5c-8b7d-4799-a915-3055c0cc99a7"
      },
      "source": [
        "class_AB.A.describe()"
      ],
      "execution_count": 27,
      "outputs": [
        {
          "output_type": "execute_result",
          "data": {
            "text/plain": [
              "count     6.000000\n",
              "mean     60.000000\n",
              "std       1.414214\n",
              "min      58.000000\n",
              "25%      59.250000\n",
              "50%      60.000000\n",
              "75%      60.750000\n",
              "max      62.000000\n",
              "Name: A, dtype: float64"
            ]
          },
          "metadata": {
            "tags": []
          },
          "execution_count": 27
        }
      ]
    },
    {
      "cell_type": "code",
      "metadata": {
        "id": "pRZe4otaycSU",
        "colab_type": "code",
        "colab": {
          "base_uri": "https://localhost:8080/",
          "height": 168
        },
        "outputId": "4b61c2e2-2e2b-487a-f8f9-b4849e0b8a26"
      },
      "source": [
        "class_AB.B.describe()"
      ],
      "execution_count": 28,
      "outputs": [
        {
          "output_type": "execute_result",
          "data": {
            "text/plain": [
              "count     6.000000\n",
              "mean     60.000000\n",
              "std       7.924645\n",
              "min      49.000000\n",
              "25%      55.500000\n",
              "50%      60.000000\n",
              "75%      64.500000\n",
              "max      71.000000\n",
              "Name: B, dtype: float64"
            ]
          },
          "metadata": {
            "tags": []
          },
          "execution_count": 28
        }
      ]
    },
    {
      "cell_type": "code",
      "metadata": {
        "id": "rtRVXX-9yg9Z",
        "colab_type": "code",
        "colab": {
          "base_uri": "https://localhost:8080/",
          "height": 118
        },
        "outputId": "8397f918-91aa-4ff7-ac0e-b27dff8c4a90"
      },
      "source": [
        "class_AB.mean(axis=1)[:5]"
      ],
      "execution_count": 29,
      "outputs": [
        {
          "output_type": "execute_result",
          "data": {
            "text/plain": [
              "0    60.0\n",
              "1    56.5\n",
              "2    63.5\n",
              "3    66.5\n",
              "4    53.5\n",
              "dtype: float64"
            ]
          },
          "metadata": {
            "tags": []
          },
          "execution_count": 29
        }
      ]
    },
    {
      "cell_type": "code",
      "metadata": {
        "id": "QkI7Zblxy1C6",
        "colab_type": "code",
        "colab": {
          "base_uri": "https://localhost:8080/",
          "height": 67
        },
        "outputId": "de83bfbd-fdb4-4fd1-ceb1-2e915bb6a8e5"
      },
      "source": [
        "class_AB.mean()"
      ],
      "execution_count": 30,
      "outputs": [
        {
          "output_type": "execute_result",
          "data": {
            "text/plain": [
              "A    60.0\n",
              "B    60.0\n",
              "dtype: float64"
            ]
          },
          "metadata": {
            "tags": []
          },
          "execution_count": 30
        }
      ]
    },
    {
      "cell_type": "code",
      "metadata": {
        "id": "L2dg94-vzJdR",
        "colab_type": "code",
        "colab": {
          "base_uri": "https://localhost:8080/",
          "height": 67
        },
        "outputId": "8752161e-8110-43ce-be54-1fc70dc64088"
      },
      "source": [
        "class_AB.median()"
      ],
      "execution_count": 31,
      "outputs": [
        {
          "output_type": "execute_result",
          "data": {
            "text/plain": [
              "A    60.0\n",
              "B    60.0\n",
              "dtype: float64"
            ]
          },
          "metadata": {
            "tags": []
          },
          "execution_count": 31
        }
      ]
    },
    {
      "cell_type": "code",
      "metadata": {
        "id": "Uu2Z0g5uzZdS",
        "colab_type": "code",
        "colab": {
          "base_uri": "https://localhost:8080/",
          "height": 50
        },
        "outputId": "38c96554-dd81-4aa4-a316-79fcff940c82"
      },
      "source": [
        "class_AB.mode()"
      ],
      "execution_count": 32,
      "outputs": [
        {
          "output_type": "execute_result",
          "data": {
            "text/plain": [
              "    A   B\n",
              "0  60  60"
            ]
          },
          "metadata": {
            "tags": []
          },
          "execution_count": 32
        }
      ]
    },
    {
      "cell_type": "code",
      "metadata": {
        "id": "5keIw2fjzk-O",
        "colab_type": "code",
        "colab": {
          "base_uri": "https://localhost:8080/",
          "height": 67
        },
        "outputId": "271009a0-b6fa-43e9-d11c-fb7fd9e0d4f9"
      },
      "source": [
        "class_AB.var()"
      ],
      "execution_count": 33,
      "outputs": [
        {
          "output_type": "execute_result",
          "data": {
            "text/plain": [
              "A     2.0\n",
              "B    62.8\n",
              "dtype: float64"
            ]
          },
          "metadata": {
            "tags": []
          },
          "execution_count": 33
        }
      ]
    },
    {
      "cell_type": "code",
      "metadata": {
        "id": "N3PEeR0uz2We",
        "colab_type": "code",
        "colab": {
          "base_uri": "https://localhost:8080/",
          "height": 67
        },
        "outputId": "168c6585-f981-4bbd-a249-fc76ad3edbb3"
      },
      "source": [
        "class_AB.std()"
      ],
      "execution_count": 34,
      "outputs": [
        {
          "output_type": "execute_result",
          "data": {
            "text/plain": [
              "A    1.414214\n",
              "B    7.924645\n",
              "dtype: float64"
            ]
          },
          "metadata": {
            "tags": []
          },
          "execution_count": 34
        }
      ]
    },
    {
      "cell_type": "code",
      "metadata": {
        "id": "nmlyAhHwz8N0",
        "colab_type": "code",
        "colab": {
          "base_uri": "https://localhost:8080/",
          "height": 34
        },
        "outputId": "ced86101-8860-40b3-daad-90a45afcfb16"
      },
      "source": [
        "class_AB.A.cov(class_AB.B)"
      ],
      "execution_count": 35,
      "outputs": [
        {
          "output_type": "execute_result",
          "data": {
            "text/plain": [
              "11.200000000000001"
            ]
          },
          "metadata": {
            "tags": []
          },
          "execution_count": 35
        }
      ]
    },
    {
      "cell_type": "code",
      "metadata": {
        "id": "KhAQEY1V0cGc",
        "colab_type": "code",
        "colab": {
          "base_uri": "https://localhost:8080/",
          "height": 34
        },
        "outputId": "ea967b52-67f6-42f3-ffbd-f8fdf10c08cd"
      },
      "source": [
        "class_AB.B.cov(class_AB.A)"
      ],
      "execution_count": 36,
      "outputs": [
        {
          "output_type": "execute_result",
          "data": {
            "text/plain": [
              "11.200000000000001"
            ]
          },
          "metadata": {
            "tags": []
          },
          "execution_count": 36
        }
      ]
    }
  ]
}